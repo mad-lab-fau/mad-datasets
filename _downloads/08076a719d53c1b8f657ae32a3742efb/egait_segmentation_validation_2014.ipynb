{
  "cells": [
    {
      "cell_type": "code",
      "execution_count": null,
      "metadata": {
        "collapsed": false
      },
      "outputs": [],
      "source": [
        "%matplotlib inline"
      ]
    },
    {
      "cell_type": "markdown",
      "metadata": {},
      "source": [
        "\n# EgaitSegmentationValidation2014 - A Stride Segmentation validation dataset\n\nThe EgaitSegmentationValidation2014 dataset allows access to the stride segmentation validation dataset recorded for\nthe EGait system.\nIt contains multiple 4x10 m walks and simulated \"free-living\" walks recorded by two foot worn IMU sensors.\nThe indivudal strides were labeled manually by multiple gait experts.\n"
      ]
    },
    {
      "cell_type": "markdown",
      "metadata": {},
      "source": [
        "<div class=\"alert alert-danger\"><h4>Warning</h4><p>For this example to work, you need to modify the dataset path in the following line to point to the\n            location of the data on your machine.</p></div>\n\n"
      ]
    },
    {
      "cell_type": "code",
      "execution_count": null,
      "metadata": {
        "collapsed": false
      },
      "outputs": [],
      "source": [
        "from pathlib import Path\n\nimport pandas as pd\n\nfrom mad_datasets import EgaitSegmentationValidation2014\n\ndataset_path = Path(\"/home/arne/Documents/repos/work/datasets/eGaIT_database_segmentation/\")"
      ]
    },
    {
      "cell_type": "markdown",
      "metadata": {},
      "source": [
        "First we will create a simple instance of the dataset class.\n\n"
      ]
    },
    {
      "cell_type": "code",
      "execution_count": null,
      "metadata": {
        "collapsed": false
      },
      "outputs": [],
      "source": [
        "dataset = EgaitSegmentationValidation2014(data_folder=dataset_path)\ndataset"
      ]
    },
    {
      "cell_type": "markdown",
      "metadata": {},
      "source": [
        "Based on the index you can select either a specific cohort or test, or a specific participant.\n\n"
      ]
    },
    {
      "cell_type": "code",
      "execution_count": null,
      "metadata": {
        "collapsed": false
      },
      "outputs": [],
      "source": [
        "only_free_walk = dataset.get_subset(test=\"free_walk\")\nonly_free_walk"
      ]
    },
    {
      "cell_type": "markdown",
      "metadata": {},
      "source": [
        "We will investigate the data for a single participant in the following for both types of tests\n\n"
      ]
    },
    {
      "cell_type": "code",
      "execution_count": null,
      "metadata": {
        "collapsed": false
      },
      "outputs": [],
      "source": [
        "free_walk = only_free_walk.get_subset(participant=\"GA214030\")\nfree_walk"
      ]
    },
    {
      "cell_type": "markdown",
      "metadata": {},
      "source": [
        "## Free-walk\nWe will plot the data together with the manually labeled strides.\nWe can see that multiple strides were labeled over the 4-min period of the measurement.\nThe only exception is a small signal region in the center\n\n"
      ]
    },
    {
      "cell_type": "code",
      "execution_count": null,
      "metadata": {
        "collapsed": false
      },
      "outputs": [],
      "source": [
        "import matplotlib.pyplot as plt\n\nimu_data = free_walk.data\nsegmented_stride_list = free_walk.segmented_stride_list_\n\n\ndef plot_strides(imu_data, segmented_stride_list):\n    fig, axs = plt.subplots(2, 1, sharex=True)\n    foot = \"right_sensor\"\n    imu_data[foot].filter(like=\"acc\").plot(ax=axs[0])\n    imu_data[foot].filter(like=\"gyr\").plot(ax=axs[1])\n\n    for (i, s) in segmented_stride_list[foot].iterrows():\n        s /= free_walk.sampling_rate_hz\n        for ax in axs:\n            ax.axvline(s[\"start\"], color=\"k\", linestyle=\"--\")\n            ax.axvline(s[\"end\"], color=\"k\", linestyle=\"--\")\n    return fig\n\n\nfig = plot_strides(imu_data, segmented_stride_list)\nfig.show()"
      ]
    },
    {
      "cell_type": "markdown",
      "metadata": {},
      "source": [
        "If we zoom into this region, we can see that the signal looks \"gait-like\".\nHowever, this corresponds to stair walking, which was explicitly **not** labeled as a stride by the authors of the\ndataset, as they wanted to show that the algorithms they developed could differentiate between stair walking and\nlevel walking.\nFurther, all turning strides were **not** labeled as a stride in the dataset.\n\nThis is important to keep in mind, when evaluating the performance of the algorithms on this dataset!\n\n"
      ]
    },
    {
      "cell_type": "code",
      "execution_count": null,
      "metadata": {
        "collapsed": false
      },
      "outputs": [],
      "source": [
        "fig = plot_strides(imu_data, segmented_stride_list)\nfig.axes[0].set_xlim(145, 165)\nfig.show()"
      ]
    },
    {
      "cell_type": "markdown",
      "metadata": {},
      "source": [
        "## 4x10 m walk\n\n"
      ]
    },
    {
      "cell_type": "code",
      "execution_count": null,
      "metadata": {
        "collapsed": false
      },
      "outputs": [],
      "source": [
        "only_gait_test = dataset.get_subset(test=\"4x10m\")\ngait_test = only_gait_test.get_subset(participant=\"GA112030E3\")\ngait_test"
      ]
    },
    {
      "cell_type": "markdown",
      "metadata": {},
      "source": [
        "We will plot the data together with the manually labeled strides.\nWe can clearly see the 4 straight walks during the test.\nIn between the walks we can see turning strides.\nAgain, these were explicitly **not** labeled as strides by the authors of the dataset.\n\n"
      ]
    },
    {
      "cell_type": "code",
      "execution_count": null,
      "metadata": {
        "collapsed": false
      },
      "outputs": [],
      "source": [
        "imu_data = gait_test.data\nsegmented_stride_list = gait_test.segmented_stride_list_\n\nfig = plot_strides(imu_data, segmented_stride_list)\nfig.show()"
      ]
    }
  ],
  "metadata": {
    "kernelspec": {
      "display_name": "Python 3",
      "language": "python",
      "name": "python3"
    },
    "language_info": {
      "codemirror_mode": {
        "name": "ipython",
        "version": 3
      },
      "file_extension": ".py",
      "mimetype": "text/x-python",
      "name": "python",
      "nbconvert_exporter": "python",
      "pygments_lexer": "ipython3",
      "version": "3.8.12"
    }
  },
  "nbformat": 4,
  "nbformat_minor": 0
}